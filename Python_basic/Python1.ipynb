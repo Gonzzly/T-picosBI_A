{
 "cells": [
  {
   "cell_type": "markdown",
   "id": "83b9565c",
   "metadata": {},
   "source": [
    "# Python for Big Data\n",
    "1. Variables \n",
    "2. String\n",
    "3. funciones print\n",
    "4. Direccionales y Condicionales\n",
    "5. Loops\n",
    "6. Funciones \n",
    "7. Manejo de Herramientas "
   ]
  },
  {
   "cell_type": "markdown",
   "id": "ef211a67",
   "metadata": {},
   "source": [
    "# 1. Variables"
   ]
  },
  {
   "cell_type": "code",
   "execution_count": null,
   "id": "42adbac5",
   "metadata": {
    "vscode": {
     "languageId": "plaintext"
    }
   },
   "outputs": [],
   "source": [
    "# Ejemplos de Variables en Python\n",
    "\n",
    "# Entero\n",
    "edad = 22\n",
    "print(\"Edad:\", edad)\n",
    "\n",
    "# Decimal\n",
    "\n",
    "altura = 1.75\n",
    "print(\"Altura:\", altura)\n",
    "\n",
    "# Cadena de texto\n",
    "nombre = \"Franky\"\n",
    "print(\"Nombre:\", nombre)\n",
    "\n",
    "# Booleano\n",
    "es_estudiante = True\n",
    "print(\"¿Es estudiante?:\", es_estudiante)\n",
    "\n",
    "# Python permite reasignar el valor de la variable con otro tipo\n",
    "edad = \"veintidós\"\n",
    "print(\"Edad ahora es un string:\", edad)\n"
   ]
  },
  {
   "cell_type": "markdown",
   "id": "a9a260f2",
   "metadata": {},
   "source": [
    "# Python for Big Data\n",
    "1. Variables \n",
    "2. Strings\n",
    "3. Funciones print\n",
    "4. Direccionales y Condicionales\n",
    "5. Loops\n",
    "6. Funciones \n",
    "7. Manejo de Herramientas \n",
    "\n",
    "## 1. Variables\n"
   ]
  },
  {
   "cell_type": "code",
   "execution_count": null,
   "id": "b0b81979",
   "metadata": {
    "vscode": {
     "languageId": "plaintext"
    }
   },
   "outputs": [],
   "source": [
    "# Ejemplos de Variables en Python\n",
    "\n",
    "# Entero\n",
    "edad = 22\n",
    "print(\"Edad:\", edad)\n",
    "\n",
    "# Decimal\n",
    "altura = 1.75\n",
    "print(\"Altura:\", altura)\n",
    "\n",
    "# Cadena de texto\n",
    "nombre = \"Franky\"\n",
    "print(\"Nombre:\", nombre)\n",
    "\n",
    "# Booleano\n",
    "es_estudiante = True\n",
    "print(\"¿Es estudiante?:\", es_estudiante)\n",
    "\n",
    "# Reasignación: una misma variable puede cambiar de tipo\n",
    "edad = \"veintidós\"\n",
    "print(\"Edad ahora es un string:\", edad)\n",
    "\n"
   ]
  }
 ],
 "metadata": {
  "language_info": {
   "name": "python"
  }
 },
 "nbformat": 4,
 "nbformat_minor": 5
}
